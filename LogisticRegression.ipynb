{
  "nbformat": 4,
  "nbformat_minor": 0,
  "metadata": {
    "colab": {
      "name": "Untitled10.ipynb",
      "provenance": [],
      "authorship_tag": "ABX9TyPUZNt+Bv8XuEea3QLAxXwT"
    },
    "kernelspec": {
      "name": "python3",
      "display_name": "Python 3"
    }
  },
  "cells": [
    {
      "cell_type": "code",
      "metadata": {
        "id": "IGOlNPOhdnTg",
        "colab_type": "code",
        "colab": {}
      },
      "source": [
        "import pandas as p\n",
        "import matplotlib.pyplot as mp\n",
        "import numpy as n\n",
        "\n",
        "d=p.read_csv(\"Social_Network_Ads.csv\")\n",
        "x=d.iloc[:,:-1].values\n",
        "y=d.iloc[:,-1].values\n"
      ],
      "execution_count": null,
      "outputs": []
    },
    {
      "cell_type": "code",
      "metadata": {
        "id": "144RRkHFeiaT",
        "colab_type": "code",
        "colab": {}
      },
      "source": [
        "from sklearn.model_selection import train_test_split as tt\n",
        "x_tr,x_te,y_tr,y_te=tt(x,y,test_size=0.25,random_state=0)\n"
      ],
      "execution_count": null,
      "outputs": []
    },
    {
      "cell_type": "code",
      "metadata": {
        "id": "3rypkG62fDht",
        "colab_type": "code",
        "colab": {}
      },
      "source": [
        "from sklearn.preprocessing import StandardScaler as s\n",
        "x1=s()\n",
        "x_tr=x1.fit_transform(x_tr)\n",
        "x_te=x1.fit_transform(x_te)"
      ],
      "execution_count": null,
      "outputs": []
    },
    {
      "cell_type": "code",
      "metadata": {
        "id": "TQhduZDBft47",
        "colab_type": "code",
        "colab": {
          "base_uri": "https://localhost:8080/",
          "height": 105
        },
        "outputId": "3461e622-0cec-4ebb-f45c-7c7f436fed7f"
      },
      "source": [
        "from sklearn.linear_model import LogisticRegression as lr\n",
        "s=lr()\n",
        "s.fit(x_tr,y_tr)"
      ],
      "execution_count": 5,
      "outputs": [
        {
          "output_type": "execute_result",
          "data": {
            "text/plain": [
              "LogisticRegression(C=1.0, class_weight=None, dual=False, fit_intercept=True,\n",
              "                   intercept_scaling=1, l1_ratio=None, max_iter=100,\n",
              "                   multi_class='auto', n_jobs=None, penalty='l2',\n",
              "                   random_state=None, solver='lbfgs', tol=0.0001, verbose=0,\n",
              "                   warm_start=False)"
            ]
          },
          "metadata": {
            "tags": []
          },
          "execution_count": 5
        }
      ]
    },
    {
      "cell_type": "code",
      "metadata": {
        "id": "qI_Gj5YwgMYN",
        "colab_type": "code",
        "colab": {
          "base_uri": "https://localhost:8080/",
          "height": 34
        },
        "outputId": "6403f88d-72fc-472c-a176-cf1da95887fb"
      },
      "source": [
        "print(s.predict(x1.fit_transform([[30,45000]])))"
      ],
      "execution_count": 7,
      "outputs": [
        {
          "output_type": "stream",
          "text": [
            "[0]\n"
          ],
          "name": "stdout"
        }
      ]
    },
    {
      "cell_type": "code",
      "metadata": {
        "id": "3YAPgD36gsAX",
        "colab_type": "code",
        "colab": {}
      },
      "source": [
        "y1=s.predict(x_te)\n",
        "for i in range(0,len(y1)):\n",
        "  print(y1[i],y_te[i])\n",
        "\n"
      ],
      "execution_count": null,
      "outputs": []
    },
    {
      "cell_type": "code",
      "metadata": {
        "id": "nKhAKUevhoXH",
        "colab_type": "code",
        "colab": {
          "base_uri": "https://localhost:8080/",
          "height": 34
        },
        "outputId": "8565c6a8-ec15-47db-e30d-142659afa65d"
      },
      "source": [
        "from sklearn.metrics import accuracy_score as s\n",
        "print(s(y1,y_te))"
      ],
      "execution_count": 10,
      "outputs": [
        {
          "output_type": "stream",
          "text": [
            "0.87\n"
          ],
          "name": "stdout"
        }
      ]
    }
  ]
}