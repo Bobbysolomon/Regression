{
  "nbformat": 4,
  "nbformat_minor": 0,
  "metadata": {
    "colab": {
      "name": "Untitled6.ipynb",
      "provenance": [],
      "collapsed_sections": [],
      "authorship_tag": "ABX9TyPlIRhtzd/xgiB1XZcPe0Xq"
    },
    "kernelspec": {
      "name": "python3",
      "display_name": "Python 3"
    }
  },
  "cells": [
    {
      "cell_type": "code",
      "metadata": {
        "id": "O_B6ssI5Nh9V",
        "colab_type": "code",
        "colab": {}
      },
      "source": [
        "import pandas as p\n",
        "import matplotlib.pyplot as mp\n",
        "import numpy as n\n",
        "\n",
        "d=p.read_csv(\"Position_Salaries.csv\")\n",
        "x=d.iloc[:,1:-1].values\n",
        "y=d.iloc[:,-1].values"
      ],
      "execution_count": 17,
      "outputs": []
    },
    {
      "cell_type": "code",
      "metadata": {
        "id": "N1qeWUMFcNih",
        "colab_type": "code",
        "colab": {
          "base_uri": "https://localhost:8080/",
          "height": 34
        },
        "outputId": "418ccc75-7b0e-45be-cc5f-f86b9f926b7b"
      },
      "source": [
        "from sklearn.linear_model import LinearRegression as lr\n",
        "g=lr()\n",
        "g.fit(x,y)"
      ],
      "execution_count": 14,
      "outputs": [
        {
          "output_type": "execute_result",
          "data": {
            "text/plain": [
              "LinearRegression(copy_X=True, fit_intercept=True, n_jobs=None, normalize=False)"
            ]
          },
          "metadata": {
            "tags": []
          },
          "execution_count": 14
        }
      ]
    },
    {
      "cell_type": "code",
      "metadata": {
        "id": "phv0a-2VdXhu",
        "colab_type": "code",
        "colab": {
          "base_uri": "https://localhost:8080/",
          "height": 34
        },
        "outputId": "6f07e5a0-5877-4086-c9ee-39f19e01457c"
      },
      "source": [
        "from sklearn.preprocessing import PolynomialFeatures as pf\n",
        "f=pf(degree=4)\n",
        "x_po=f.fit_transform(x)\n",
        "g1=lr()\n",
        "g1.fit(x_po,y)\n"
      ],
      "execution_count": 16,
      "outputs": [
        {
          "output_type": "execute_result",
          "data": {
            "text/plain": [
              "LinearRegression(copy_X=True, fit_intercept=True, n_jobs=None, normalize=False)"
            ]
          },
          "metadata": {
            "tags": []
          },
          "execution_count": 16
        }
      ]
    },
    {
      "cell_type": "code",
      "metadata": {
        "id": "xRoTzOIBeWVy",
        "colab_type": "code",
        "colab": {
          "base_uri": "https://localhost:8080/",
          "height": 295
        },
        "outputId": "3a9f84bb-be2d-40ed-b493-9908c0f6fbde"
      },
      "source": [
        "mp.scatter(x,y,color=\"blue\")\n",
        "mp.plot(x,g.predict(x),color=\"red\")\n",
        "plt.title('Truth or Bluff (Linear Regression)')\n",
        "plt.xlabel('Position level')\n",
        "plt.ylabel('Salary')\n",
        "plt.show()"
      ],
      "execution_count": 20,
      "outputs": [
        {
          "output_type": "display_data",
          "data": {
            "image/png": "[encoded data removed]",
            "text/plain": [
              "<Figure size 432x288 with 1 Axes>"
            ]
          },
          "metadata": {
            "tags": [],
            "needs_background": "light"
          }
        }
      ]
    },
    {
      "cell_type": "code",
      "metadata": {
        "id": "E6FM7mv8evxH",
        "colab_type": "code",
        "colab": {
          "base_uri": "https://localhost:8080/",
          "height": 295
        },
        "outputId": "63de4f48-a8b3-49c2-bd86-b8c255631f88"
      },
      "source": [
        "mp.scatter(x,y,color=\"green\")\n",
        "mp.plot(x,g1.predict(x_po),color=\"red\")\n",
        "plt.title('Truth or Bluff (Polynomial Regression)')\n",
        "plt.xlabel('Position level')\n",
        "plt.ylabel('Salary')\n",
        "plt.show()"
      ],
      "execution_count": 21,
      "outputs": [
        {
          "output_type": "display_data",
          "data": {
            "image/png": "[encoded data removed]",
            "text/plain": [
              "<Figure size 432x288 with 1 Axes>"
            ]
          },
          "metadata": {
            "tags": [],
            "needs_background": "light"
          }
        }
      ]
    }
  ]
}