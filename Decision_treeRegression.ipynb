{
  "nbformat": 4,
  "nbformat_minor": 0,
  "metadata": {
    "colab": {
      "name": "Untitled7.ipynb",
      "provenance": [],
      "collapsed_sections": [],
      "authorship_tag": "ABX9TyNbZn1oXyTshFt/81iPmz5h"
    },
    "kernelspec": {
      "name": "python3",
      "display_name": "Python 3"
    }
  },
  "cells": [
    {
      "cell_type": "code",
      "metadata": {
        "id": "3VQJiwIcjpMy",
        "colab_type": "code",
        "colab": {}
      },
      "source": [
        "import pandas as p\n",
        "import matplotlib.pyplot as plt\n",
        "import numpy as n\n",
        "d=p.read_csv(\"Position_Salaries.csv\")\n",
        "x=d.iloc[:,1:-1].values\n",
        "y=d.iloc[:, -1].values\n"
      ],
      "execution_count": 15,
      "outputs": []
    },
    {
      "cell_type": "code",
      "metadata": {
        "id": "PuccEPYMk3xc",
        "colab_type": "code",
        "colab": {
          "base_uri": "https://localhost:8080/",
          "height": 122
        },
        "outputId": "805929e9-4969-4e3e-faa3-573bccd97525"
      },
      "source": [
        "from sklearn.tree import DecisionTreeRegressor \n",
        "g=DecisionTreeRegressor(random_state=0)\n",
        "g.fit(x,y)"
      ],
      "execution_count": 8,
      "outputs": [
        {
          "output_type": "execute_result",
          "data": {
            "text/plain": [
              "DecisionTreeRegressor(ccp_alpha=0.0, criterion='mse', max_depth=None,\n",
              "                      max_features=None, max_leaf_nodes=None,\n",
              "                      min_impurity_decrease=0.0, min_impurity_split=None,\n",
              "                      min_samples_leaf=1, min_samples_split=2,\n",
              "                      min_weight_fraction_leaf=0.0, presort='deprecated',\n",
              "                      random_state=0, splitter='best')"
            ]
          },
          "metadata": {
            "tags": []
          },
          "execution_count": 8
        }
      ]
    },
    {
      "cell_type": "code",
      "metadata": {
        "id": "HVYeD-6TlYl9",
        "colab_type": "code",
        "colab": {
          "base_uri": "https://localhost:8080/",
          "height": 295
        },
        "outputId": "dd418d1a-c80a-4232-cbd4-cd5bfc0c5ecb"
      },
      "source": [
        "x1 = n.arange(min(x), max(x), 0.01)\n",
        "x1 = x1.reshape((len(x1), 1))\n",
        "\n",
        "\n",
        "\n",
        "plt.scatter(x,y,color=\"green\")\n",
        "plt.plot(x1,g.predict(x1),color=\"red\")\n",
        "plt.title('Truth or Bluff (Decision Tree Regression)')\n",
        "plt.xlabel('Position level')\n",
        "plt.ylabel('Salary')\n",
        "plt.show()"
      ],
      "execution_count": 14,
      "outputs": [
        {
          "output_type": "display_data",
          "data": {
            "image/png": "[encoded data removed]",
            "text/plain": [
              "<Figure size 432x288 with 1 Axes>"
            ]
          },
          "metadata": {
            "tags": [],
            "needs_background": "light"
          }
        }
      ]
    }
  ]
}