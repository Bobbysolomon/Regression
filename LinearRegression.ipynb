{
  "nbformat": 4,
  "nbformat_minor": 0,
  "metadata": {
    "colab": {
      "name": "Untitled4.ipynb",
      "provenance": [],
      "collapsed_sections": [],
      "authorship_tag": "ABX9TyMkIT0CdNubh2BM3xn72i1F"
    },
    "kernelspec": {
      "name": "python3",
      "display_name": "Python 3"
    }
  },
  "cells": [
    {
      "cell_type": "code",
      "metadata": {
        "id": "SmPERCcI8HFd",
        "colab_type": "code",
        "colab": {}
      },
      "source": [
        "import pandas as p\n",
        "import matplotlib.pyplot as m\n",
        "import numpy as n\n",
        "d=p.read_csv('Salary_Data.csv')\n",
        "x=d.iloc[:,:-1].values\n",
        "y=d.iloc[:,-1].values\n"
      ],
      "execution_count": null,
      "outputs": []
    },
    {
      "cell_type": "code",
      "metadata": {
        "id": "_k8TI8mL9ZJC",
        "colab_type": "code",
        "colab": {}
      },
      "source": [
        "from sklearn.model_selection import train_test_split as t\n",
        "x_tr,x_te,y_tr,y_te=t(x,y,test_size=1/3,random_state=0 )\n"
      ],
      "execution_count": 15,
      "outputs": []
    },
    {
      "cell_type": "code",
      "metadata": {
        "id": "Fv9ghXig-DmD",
        "colab_type": "code",
        "colab": {
          "base_uri": "https://localhost:8080/",
          "height": 34
        },
        "outputId": "94369bcc-83fb-4ec3-c5e8-b0b1387fb07d"
      },
      "source": [
        "from sklearn.linear_model import LinearRegression as lr\n",
        "g=lr()\n",
        "g.fit(x_tr,y_tr)"
      ],
      "execution_count": 16,
      "outputs": [
        {
          "output_type": "execute_result",
          "data": {
            "text/plain": [
              "LinearRegression(copy_X=True, fit_intercept=True, n_jobs=None, normalize=False)"
            ]
          },
          "metadata": {
            "tags": []
          },
          "execution_count": 16
        }
      ]
    },
    {
      "cell_type": "code",
      "metadata": {
        "id": "ltSihFrC-ToR",
        "colab_type": "code",
        "colab": {}
      },
      "source": [
        "\n",
        "q=g.predict(x_te)"
      ],
      "execution_count": 17,
      "outputs": []
    },
    {
      "cell_type": "code",
      "metadata": {
        "id": "OTlhiZmS-0sN",
        "colab_type": "code",
        "colab": {
          "base_uri": "https://localhost:8080/",
          "height": 265
        },
        "outputId": "e14b4900-4d57-4299-9de8-a8b07eeef732"
      },
      "source": [
        "m.scatter(x_tr,y_tr)\n",
        "m.plot(x_tr,g.predict(x_tr),color=\"red\")\n",
        "m.show()"
      ],
      "execution_count": 18,
      "outputs": [
        {
          "output_type": "display_data",
          "data": {
            "image/png": "[encoded data removed]",
            "text/plain": [
              "<Figure size 432x288 with 1 Axes>"
            ]
          },
          "metadata": {
            "tags": [],
            "needs_background": "light"
          }
        }
      ]
    },
    {
      "cell_type": "code",
      "metadata": {
        "id": "Uoc9t-bE_hbs",
        "colab_type": "code",
        "colab": {
          "base_uri": "https://localhost:8080/",
          "height": 295
        },
        "outputId": "661815b2-acc4-46ce-8d35-d0f6812fec0f"
      },
      "source": [
        "m.scatter(x_te,y_te,color=\"blue\")\n",
        "m.plot(x_te,g.predict(x_te),color=\"red\")\n",
        "m.xlabel(\"Experince\")\n",
        "m.title(\"Testing the values\")\n",
        "m.ylabel(\"Salary\")\n",
        "m.show()"
      ],
      "execution_count": 19,
      "outputs": [
        {
          "output_type": "display_data",
          "data": {
            "image/png": "[encoded data removed]",
            "text/plain": [
              "<Figure size 432x288 with 1 Axes>"
            ]
          },
          "metadata": {
            "tags": [],
            "needs_background": "light"
          }
        }
      ]
    }
  ]
}