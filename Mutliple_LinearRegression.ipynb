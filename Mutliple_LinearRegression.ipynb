{
  "nbformat": 4,
  "nbformat_minor": 0,
  "metadata": {
    "colab": {
      "name": "Untitled5.ipynb",
      "provenance": [],
      "authorship_tag": "ABX9TyNzvT3TiL5B2ePlj3dVsFuz"
    },
    "kernelspec": {
      "name": "python3",
      "display_name": "Python 3"
    }
  },
  "cells": [
    {
      "cell_type": "code",
      "metadata": {
        "id": "JCXWjW1vC_Ud",
        "colab_type": "code",
        "colab": {}
      },
      "source": [
        "import pandas as p\n",
        "import matplotlib.pyplot as m\n",
        "import numpy as n\n",
        "\n",
        "#Reading a csv file\n",
        "\n",
        "d=p.read_csv(\"50_Startups.csv\")\n",
        "x=d.iloc[:,:-1].values\n",
        "y=d.iloc[:,-1].values"
      ],
      "execution_count": 24,
      "outputs": []
    },
    {
      "cell_type": "code",
      "metadata": {
        "id": "bP6HZrfuEabY",
        "colab_type": "code",
        "colab": {}
      },
      "source": [
        "#Encoding Categorical data\n",
        "from sklearn.compose import ColumnTransformer as ct\n",
        "from sklearn.preprocessing import OneHotEncoder as o\n",
        "c=ct(transformers=[('encoder',o(),[3])],remainder='passthrough' )\n",
        "x=n.array(c.fit_transform(x))"
      ],
      "execution_count": 26,
      "outputs": []
    },
    {
      "cell_type": "code",
      "metadata": {
        "id": "UhLsPd_5Fxjk",
        "colab_type": "code",
        "colab": {}
      },
      "source": [
        "#Spliting into testing and Training Sets\n",
        "from sklearn.model_selection import train_test_split as tt\n",
        "x_tr,x_te,y_tr,y_te=tt(x,y,test_size=0.2,random_state=1 )\n",
        "\n"
      ],
      "execution_count": 28,
      "outputs": []
    },
    {
      "cell_type": "code",
      "metadata": {
        "id": "va9OzZVuKtya",
        "colab_type": "code",
        "colab": {
          "base_uri": "https://localhost:8080/",
          "height": 52
        },
        "outputId": "ee5eb4a5-2680-4aa4-bc89-a79a7da035e8"
      },
      "source": [
        "print(len(x_tr))\n",
        "print(len(y_tr))"
      ],
      "execution_count": 31,
      "outputs": [
        {
          "output_type": "stream",
          "text": [
            "40\n",
            "40\n"
          ],
          "name": "stdout"
        }
      ]
    },
    {
      "cell_type": "code",
      "metadata": {
        "id": "OS_fBBaQG-jz",
        "colab_type": "code",
        "colab": {
          "base_uri": "https://localhost:8080/",
          "height": 34
        },
        "outputId": "a0eaf084-11ad-46b2-f3dc-01cab11f0816"
      },
      "source": [
        "from sklearn.linear_model import LinearRegression as lr\n",
        "q=lr()\n",
        "q.fit(x_tr,y_tr)"
      ],
      "execution_count": 18,
      "outputs": [
        {
          "output_type": "execute_result",
          "data": {
            "text/plain": [
              "LinearRegression(copy_X=True, fit_intercept=True, n_jobs=None, normalize=False)"
            ]
          },
          "metadata": {
            "tags": []
          },
          "execution_count": 18
        }
      ]
    },
    {
      "cell_type": "code",
      "metadata": {
        "id": "3_c6TOxJHbtH",
        "colab_type": "code",
        "colab": {
          "base_uri": "https://localhost:8080/",
          "height": 140
        },
        "outputId": "3b2b6e78-612b-43c9-b040-6b4bca293a00"
      },
      "source": [
        "#Predicting the Values\n",
        "w=q.predict(x_te)\n",
        "n.set_printoptions(precision=2)\n",
        "print(\"Expected Values are\")\n",
        "print(w)\n",
        "print(end=\"\\n\")\n",
        "print(\"Original Values are\")\n",
        "print(y_te)"
      ],
      "execution_count": 41,
      "outputs": [
        {
          "output_type": "stream",
          "text": [
            "Expected Values are\n",
            "[116161.24  89164.63  75019.09  67851.69 178537.48 172852.28  45374.35\n",
            " 102951.96  57298.29  98791.73]\n",
            "\n",
            "Original Values are\n",
            "[105008.31  96479.51  78239.91  81229.06 191050.39 182901.99  35673.41\n",
            " 101004.64  49490.75  97483.56]\n"
          ],
          "name": "stdout"
        }
      ]
    }
  ]
}