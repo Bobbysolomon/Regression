{
  "nbformat": 4,
  "nbformat_minor": 0,
  "metadata": {
    "colab": {
      "name": "Untitled11.ipynb",
      "provenance": [],
      "authorship_tag": "ABX9TyOj9Lt62+avjUui7CbRhClb"
    },
    "kernelspec": {
      "name": "python3",
      "display_name": "Python 3"
    }
  },
  "cells": [
    {
      "cell_type": "code",
      "metadata": {
        "id": "MQJf4L68m2nm",
        "colab_type": "code",
        "colab": {}
      },
      "source": [
        "import pandas as p\n",
        "import numpy as np\n",
        "import matplotlib.pyplot as m\n",
        "d=p.read_csv(\"Social_Network_Ads.csv\")\n",
        "x=d.iloc[:,:-1].values\n",
        "y=d.iloc[:,-1].values\n",
        "\n"
      ],
      "execution_count": 2,
      "outputs": []
    },
    {
      "cell_type": "code",
      "metadata": {
        "id": "AOhjJ71wnjOu",
        "colab_type": "code",
        "colab": {}
      },
      "source": [
        "from sklearn.model_selection import train_test_split as tt\n",
        "x_tr,x_te,y_tr,y_te=tt(x,y,test_size=0.25,random_state=0)\n"
      ],
      "execution_count": 7,
      "outputs": []
    },
    {
      "cell_type": "code",
      "metadata": {
        "id": "DTo71sJpnx9d",
        "colab_type": "code",
        "colab": {}
      },
      "source": [
        "from sklearn.preprocessing import StandardScaler as s\n",
        "d=s()\n",
        "x_tr=d.fit_transform(x_tr)\n",
        "x_te=d.fit_transform(x_te)"
      ],
      "execution_count": 11,
      "outputs": []
    },
    {
      "cell_type": "code",
      "metadata": {
        "id": "dyj7CbBFoCpq",
        "colab_type": "code",
        "colab": {
          "base_uri": "https://localhost:8080/",
          "height": 70
        },
        "outputId": "b0dd71bf-773b-43b1-b314-d3d8a6d8cc4e"
      },
      "source": [
        "from sklearn.neighbors import KNeighborsClassifier as k\n",
        "g=k(n_neighbors=5,metric=\"minkowski\",p=2)\n",
        "g.fit(x_tr,y_tr)"
      ],
      "execution_count": 12,
      "outputs": [
        {
          "output_type": "execute_result",
          "data": {
            "text/plain": [
              "KNeighborsClassifier(algorithm='auto', leaf_size=30, metric='minkowski',\n",
              "                     metric_params=None, n_jobs=None, n_neighbors=5, p=2,\n",
              "                     weights='uniform')"
            ]
          },
          "metadata": {
            "tags": []
          },
          "execution_count": 12
        }
      ]
    },
    {
      "cell_type": "code",
      "metadata": {
        "id": "YJGvynqgpKxA",
        "colab_type": "code",
        "colab": {}
      },
      "source": [
        "y1=g.predict(x_te)\n"
      ],
      "execution_count": 14,
      "outputs": []
    },
    {
      "cell_type": "code",
      "metadata": {
        "id": "bOwj-pARpQcG",
        "colab_type": "code",
        "colab": {
          "base_uri": "https://localhost:8080/",
          "height": 52
        },
        "outputId": "0b6d6284-92ed-415e-8c29-9cf514ce4285"
      },
      "source": [
        "from sklearn.metrics import confusion_matrix,accuracy_score \n",
        "c=confusion_matrix(y1,y_te)\n",
        "print(c,accuracy_score(y1,y_te))"
      ],
      "execution_count": 15,
      "outputs": [
        {
          "output_type": "stream",
          "text": [
            "[[64  3]\n",
            " [ 4 29]] 0.93\n"
          ],
          "name": "stdout"
        }
      ]
    }
  ]
}